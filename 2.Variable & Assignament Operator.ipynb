{
 "cells": [
  {
   "cell_type": "raw",
   "id": "43d0249f-7579-49db-8bbd-3a120920a5c7",
   "metadata": {},
   "source": [
    "a=10\n",
    "b=20\n",
    "c=a+b\n",
    "print(\"c\")"
   ]
  },
  {
   "cell_type": "code",
   "execution_count": 1,
   "id": "a99e371d-6330-4e11-8a0e-d22e397f102f",
   "metadata": {},
   "outputs": [
    {
     "name": "stdout",
     "output_type": "stream",
     "text": [
      "c\n"
     ]
    }
   ],
   "source": [
    "a=10\n",
    "b=20\n",
    "c=a+b\n",
    "print(\"c\")"
   ]
  },
  {
   "cell_type": "code",
   "execution_count": 3,
   "id": "8c935817-72bf-4387-b2db-f2a5045dcee3",
   "metadata": {},
   "outputs": [
    {
     "name": "stdout",
     "output_type": "stream",
     "text": [
      "c\n",
      "30\n"
     ]
    }
   ],
   "source": [
    "a=10\n",
    "b=20\n",
    "c=a+b\n",
    "print(\"c\")\n",
    "print(c)"
   ]
  },
  {
   "cell_type": "markdown",
   "id": "b6e22032-6754-488e-bf2a-f4bcdb313923",
   "metadata": {},
   "source": [
    "a=10\n",
    "b=20\n",
    "c=a+b\n",
    "print(\"Total = \", c)"
   ]
  },
  {
   "cell_type": "code",
   "execution_count": 7,
   "id": "fb5d5a2e-c50b-40f1-bbd4-b76c00751ccb",
   "metadata": {},
   "outputs": [],
   "source": [
    "Num1=40\n",
    "Num2=50\n",
    "Add=Num1+Num2\n",
    "Sub=Num2-Num1\n",
    "\n"
   ]
  },
  {
   "cell_type": "code",
   "execution_count": 11,
   "id": "c1dff6ac-53b8-4e17-a57c-9decf0fd3d82",
   "metadata": {},
   "outputs": [],
   "source": [
    "Firtname=\"Senthilpriya K\""
   ]
  },
  {
   "cell_type": "code",
   "execution_count": 17,
   "id": "5758eeb0-88ce-412b-9daa-a087d21b02f5",
   "metadata": {},
   "outputs": [
    {
     "name": "stdout",
     "output_type": "stream",
     "text": [
      "The addition of two numbers\n",
      "The Num1= 10\n",
      "The Num2= 20\n",
      "The Answer= 30\n"
     ]
    }
   ],
   "source": [
    "TheNum1=10\n",
    "TheNum2=20\n",
    "Answer=Num1+Num2\n",
    "print(\"The addition of two numbers\")\n",
    "print(\"The Num1=\", 10)\n",
    "print(\"The Num2=\", 20)\n",
    "print(\"The Answer=\", 30)\n"
   ]
  },
  {
   "cell_type": "code",
   "execution_count": 29,
   "id": "4adb0c1e-fa5f-40f7-8e1d-558751b1fe6d",
   "metadata": {},
   "outputs": [
    {
     "name": "stdin",
     "output_type": "stream",
     "text": [
      "Enter the num1 : 30\n"
     ]
    }
   ],
   "source": [
    "num1=int(input(\"Enter the num1 :\"))\n",
    "\n"
   ]
  },
  {
   "cell_type": "code",
   "execution_count": 37,
   "id": "5fe4b654-1db8-49af-8336-7846e5414b5a",
   "metadata": {},
   "outputs": [
    {
     "name": "stdin",
     "output_type": "stream",
     "text": [
      "Enter the num2 : 50\n"
     ]
    }
   ],
   "source": [
    "num2=int(input(\"Enter the num2 :\"))\n"
   ]
  },
  {
   "cell_type": "code",
   "execution_count": 43,
   "id": "49a51fc2-7b08-4516-b14c-63dd66f89153",
   "metadata": {},
   "outputs": [],
   "source": [
    "mul=9\n"
   ]
  },
  {
   "cell_type": "code",
   "execution_count": 45,
   "id": "850ae982-8de2-4791-8635-9fa13bbcc3a4",
   "metadata": {},
   "outputs": [
    {
     "name": "stdout",
     "output_type": "stream",
     "text": [
      "80\n",
      "9\n"
     ]
    }
   ],
   "source": [
    "add=num1+num2\n",
    "print(add)\n",
    "print(mul)\n",
    "\n",
    "\n"
   ]
  },
  {
   "cell_type": "code",
   "execution_count": 25,
   "id": "969e3fde-7982-4a72-847b-6a54d8176f58",
   "metadata": {},
   "outputs": [
    {
     "ename": "NameError",
     "evalue": "name 'add' is not defined",
     "output_type": "error",
     "traceback": [
      "\u001b[1;31m---------------------------------------------------------------------------\u001b[0m",
      "\u001b[1;31mNameError\u001b[0m                                 Traceback (most recent call last)",
      "Cell \u001b[1;32mIn[25], line 1\u001b[0m\n\u001b[1;32m----> 1\u001b[0m \u001b[38;5;28mprint\u001b[39m(add)\n",
      "\u001b[1;31mNameError\u001b[0m: name 'add' is not defined"
     ]
    }
   ],
   "source": [
    "print(add)"
   ]
  },
  {
   "cell_type": "code",
   "execution_count": null,
   "id": "d6621437-b7e4-4a09-9f91-70b95d5f3fa3",
   "metadata": {},
   "outputs": [],
   "source": []
  }
 ],
 "metadata": {
  "kernelspec": {
   "display_name": "Python [conda env:base] *",
   "language": "python",
   "name": "conda-base-py"
  },
  "language_info": {
   "codemirror_mode": {
    "name": "ipython",
    "version": 3
   },
   "file_extension": ".py",
   "mimetype": "text/x-python",
   "name": "python",
   "nbconvert_exporter": "python",
   "pygments_lexer": "ipython3",
   "version": "3.12.7"
  }
 },
 "nbformat": 4,
 "nbformat_minor": 5
}
