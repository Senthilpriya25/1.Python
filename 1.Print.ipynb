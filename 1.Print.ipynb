{
 "cells": [
  {
   "cell_type": "raw",
   "id": "96cc211e-6764-4d57-8f7f-6e21bf0b24bf",
   "metadata": {},
   "source": [
    "print()\n"
   ]
  },
  {
   "cell_type": "raw",
   "id": "4020b408-7b29-4b49-bf85-f932c9b13cb9",
   "metadata": {},
   "source": [
    "print(\"Welcome to AI World\")"
   ]
  },
  {
   "cell_type": "code",
   "execution_count": 2,
   "id": "ee54f247-89ee-4aca-b87f-e1571429126f",
   "metadata": {},
   "outputs": [
    {
     "name": "stdout",
     "output_type": "stream",
     "text": [
      "Welcome to AI World\n"
     ]
    }
   ],
   "source": [
    "print(\"Welcome to AI World\")"
   ]
  },
  {
   "cell_type": "code",
   "execution_count": 4,
   "id": "38ef907f-e8cb-4250-9398-cd69f20b1ad2",
   "metadata": {},
   "outputs": [
    {
     "name": "stdout",
     "output_type": "stream",
     "text": [
      "Welcome to AI World\n"
     ]
    }
   ],
   "source": [
    "print(\"Welcome to AI World\")"
   ]
  },
  {
   "cell_type": "code",
   "execution_count": 6,
   "id": "2ded1f56-ee98-4304-8006-ba113895aa52",
   "metadata": {},
   "outputs": [
    {
     "name": "stdout",
     "output_type": "stream",
     "text": [
      "Welcome $$ 11\n"
     ]
    }
   ],
   "source": [
    "print(\"Welcome $$ 11\")"
   ]
  },
  {
   "cell_type": "code",
   "execution_count": 8,
   "id": "5b56434e-7c81-4441-a2f2-9dadc49f7cfd",
   "metadata": {},
   "outputs": [
    {
     "ename": "NameError",
     "evalue": "name 'Print' is not defined",
     "output_type": "error",
     "traceback": [
      "\u001b[1;31m---------------------------------------------------------------------------\u001b[0m",
      "\u001b[1;31mNameError\u001b[0m                                 Traceback (most recent call last)",
      "Cell \u001b[1;32mIn[8], line 1\u001b[0m\n\u001b[1;32m----> 1\u001b[0m Print(\u001b[38;5;124m\"\u001b[39m\u001b[38;5;124mWelcome\u001b[39m\u001b[38;5;124m\"\u001b[39m)\n",
      "\u001b[1;31mNameError\u001b[0m: name 'Print' is not defined"
     ]
    }
   ],
   "source": [
    "Print(\"Welcome\")"
   ]
  },
  {
   "cell_type": "code",
   "execution_count": null,
   "id": "cca8095d-d5f1-4c67-955d-bbfb96ef1b8c",
   "metadata": {},
   "outputs": [],
   "source": []
  }
 ],
 "metadata": {
  "kernelspec": {
   "display_name": "Python [conda env:base] *",
   "language": "python",
   "name": "conda-base-py"
  },
  "language_info": {
   "codemirror_mode": {
    "name": "ipython",
    "version": 3
   },
   "file_extension": ".py",
   "mimetype": "text/x-python",
   "name": "python",
   "nbconvert_exporter": "python",
   "pygments_lexer": "ipython3",
   "version": "3.12.7"
  }
 },
 "nbformat": 4,
 "nbformat_minor": 5
}
